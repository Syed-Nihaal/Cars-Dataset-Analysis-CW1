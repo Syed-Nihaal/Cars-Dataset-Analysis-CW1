{
 "cells": [
  {
   "cell_type": "code",
   "execution_count": null,
   "id": "4c615b08",
   "metadata": {},
   "outputs": [],
   "source": [
    "# Importing libraries for data analysis\n",
    "import pandas as  pd\n",
    "import chardet\n",
    "import re\n",
    "import numpy as np \n",
    "import matplotlib.pyplot as plt\n",
    "import seaborn as sns\n",
    "from sklearn.preprocessing import MinMaxScaler\n",
    "from sklearn.preprocessing import StandardScaler\n",
    "from sklearn.tree import DecisionTreeRegressor\n",
    "from sklearn.ensemble import GradientBoostingRegressor\n",
    "from sklearn.linear_model import LinearRegression\n",
    "from sklearn.model_selection import train_test_split\n",
    "from sklearn.metrics import mean_absolute_error\n",
    "from sklearn.metrics import r2_score\n",
    "\n",
    "# Dataset source: https://www.kaggle.com/datasets/abdulmalik1518/cars-datasets-2025/data\n",
    "# Importing dataset csv file\n",
    "with open(\"Cars Datasets 2025.csv\", 'rb') as file:\n",
    "    encoding = chardet.detect(file.read())['encoding']\n",
    "data = pd.read_csv(\"Cars Datasets 2025.csv\", encoding=encoding)"
   ]
  },
  {
   "cell_type": "markdown",
   "id": "8c18958b",
   "metadata": {},
   "source": [
    "# Data Preprocessing"
   ]
  },
  {
   "cell_type": "code",
   "execution_count": null,
   "id": "4a6808cc",
   "metadata": {},
   "outputs": [],
   "source": [
    "#Cleaning the data\n",
    "def data_cleaning(a):\n",
    "    if pd.isna(a): \n",
    "        return None\n",
    "    a = str(a).replace(\",\", \"\").replace(\"$\", \"\").strip()\n",
    "    num = [float(x) for x in re.findall(r\"\\d+\\.?\\d*\", a)]\n",
    "    if not num:\n",
    "        return None\n",
    "    return sum(num)/len(num)\n",
    "\n",
    "columns = [\"CC/Battery Capacity\", \"HorsePower\", \"Total Speed\", \"Performance(0 - 100 )KM/H\", \"Cars Prices\", \"Torque\"]\n",
    "for column in columns:\n",
    "    data[column] = data[column].apply(data_cleaning)\n",
    "\n",
    "data[\"Seats\"] = pd.to_numeric(data[\"Seats\"], errors=\"coerce\").astype(\"Int64\")\n",
    "data[\"Company Names\"] = data[\"Company Names\"].str.strip().str.upper()\n",
    "data[\"Cars Names\"] = data[\"Cars Names\"].str.strip().str.title()\n",
    "data[\"Fuel Types\"] = data[\"Fuel Types\"].str.strip().str.lower()\n",
    "data[\"Engines\"] = data[\"Engines\"].str.strip().str.upper()"
   ]
  },
  {
   "cell_type": "code",
   "execution_count": null,
   "id": "2bb5bcc3",
   "metadata": {},
   "outputs": [],
   "source": [
    "# Displaying first 5 rows of the dataset\n",
    "data.head()"
   ]
  },
  {
   "cell_type": "code",
   "execution_count": null,
   "id": "98025d6b",
   "metadata": {},
   "outputs": [],
   "source": [
    "# Displaying the last 5 rows of the dataset\n",
    "data.tail()"
   ]
  },
  {
   "cell_type": "code",
   "execution_count": null,
   "id": "fcaf2439",
   "metadata": {},
   "outputs": [],
   "source": [
    "# Displaying the shape of the dataset (Rows, Columns)\n",
    "data.shape"
   ]
  },
  {
   "cell_type": "code",
   "execution_count": null,
   "id": "19256bfa",
   "metadata": {},
   "outputs": [],
   "source": [
    "# Discribing the dataset\n",
    "data.describe()"
   ]
  },
  {
   "cell_type": "code",
   "execution_count": null,
   "id": "3bcd9e01",
   "metadata": {},
   "outputs": [],
   "source": [
    "# Displaying the data types\n",
    "data.dtypes"
   ]
  },
  {
   "cell_type": "code",
   "execution_count": null,
   "id": "ea030ddd",
   "metadata": {},
   "outputs": [],
   "source": [
    "# Displaying the number of duplicate rows\n",
    "data.duplicated().sum()"
   ]
  },
  {
   "cell_type": "code",
   "execution_count": null,
   "id": "5305bcf6",
   "metadata": {},
   "outputs": [],
   "source": [
    "# Displaying the duplicate rows if found\n",
    "data[data.duplicated(keep=False)]"
   ]
  },
  {
   "cell_type": "code",
   "execution_count": null,
   "id": "a6df21cf",
   "metadata": {},
   "outputs": [],
   "source": [
    "# Handling duplicate data by dropping the rows with duplicate values if found\n",
    "data.drop_duplicates(inplace=True)\n",
    "data.duplicated().sum()"
   ]
  },
  {
   "cell_type": "code",
   "execution_count": null,
   "id": "46580b25",
   "metadata": {},
   "outputs": [],
   "source": [
    "# Displaying the number of missing values\n",
    "data.isnull().sum()"
   ]
  },
  {
   "cell_type": "code",
   "execution_count": null,
   "id": "6930d504",
   "metadata": {},
   "outputs": [],
   "source": [
    "# Displaying the rows with missing values if found\n",
    "data[data.isnull().any(axis=1)]"
   ]
  },
  {
   "cell_type": "code",
   "execution_count": null,
   "id": "06cb3ccf",
   "metadata": {},
   "outputs": [],
   "source": [
    "# Handling missing data by dropping the rows with missing values if found\n",
    "data.dropna(inplace=True)\n",
    "data.isnull().sum()"
   ]
  },
  {
   "cell_type": "markdown",
   "id": "6374d2e0",
   "metadata": {},
   "source": [
    "# Exploratory Data Analysis (EDA)"
   ]
  },
  {
   "cell_type": "code",
   "execution_count": null,
   "id": "aa553580",
   "metadata": {},
   "outputs": [],
   "source": [
    "# Displaying HorsePower descriptive statistics\n",
    "data.HorsePower.describe()"
   ]
  },
  {
   "cell_type": "code",
   "execution_count": null,
   "id": "732ef91d",
   "metadata": {},
   "outputs": [],
   "source": [
    "# Displaying HorsePower and the count of cars distribution\n",
    "sns.distplot(data['HorsePower'])\n",
    "plt.title('Distribution of HorsePower')\n",
    "plt.xlabel('HorsePower')\n",
    "plt.ylabel('Count of Cars')\n",
    "plt.tight_layout()\n",
    "plt.show()\n",
    "# Measure of distortion of symmetric distribution\n",
    "print(\"Skewness: %f\" % data['HorsePower'].skew())\n",
    "print(\"Kurtosis: %f\" % data['HorsePower'].kurt())"
   ]
  },
  {
   "cell_type": "markdown",
   "id": "6f76a32a",
   "metadata": {},
   "source": [
    "Explaination -\n",
    "The distribution of HorsePower is skewed to the right with a positive skewness of 0.46. The Kurtosis of 3.64 indicates that the distribution is relatively normal with a heavy tail."
   ]
  },
  {
   "cell_type": "code",
   "execution_count": null,
   "id": "fb42197a",
   "metadata": {},
   "outputs": [],
   "source": [
    "# Displaying the of CC/Battery Capacity, HorsePower, Total Speed, Performance(0 - 100 )KM/H and Torque correlation\n",
    "factors = ['CC/Battery Capacity', 'HorsePower', 'Total Speed', 'Performance(0 - 100 )KM/H', 'Torque']\n",
    "data_clean = data[factors].copy()\n",
    "corrmat = data_clean.corr()\n",
    "f, ax = plt.subplots(figsize=(12, 9))\n",
    "sns.heatmap(corrmat, vmin=-1, vmax=1, annot=True, cmap='BrBG')\n",
    "plt.title('Performance Metrics Correlation Matrix\\n')\n",
    "plt.xticks(rotation=45, ha='right')\n",
    "plt.yticks(rotation=0)\n",
    "plt.tight_layout()\n",
    "plt.show()"
   ]
  },
  {
   "cell_type": "markdown",
   "id": "eb90ad89",
   "metadata": {},
   "source": [
    "Explaination -\n",
    "The correlation matrix shows a strong positive correlation between HorsePower and Performance, and a weak positive correlation between HorsePower and Total Speed."
   ]
  },
  {
   "cell_type": "code",
   "execution_count": null,
   "id": "7b6ba2b3",
   "metadata": {},
   "outputs": [],
   "source": [
    "# Displaying the correlation between HorsePower and Total Speed using the scatterplot\n",
    "plt.figure(figsize = (10,6))\n",
    "sns.scatterplot(x='HorsePower',y='Total Speed',color='r',data=data)\n",
    "plt.title('Relationship between HorsePower and Total Speed',size=18)\n",
    "plt.xlabel('HorsePower',size=14)\n",
    "plt.ylabel('Total Speed',size=14)\n",
    "plt.show()"
   ]
  },
  {
   "cell_type": "markdown",
   "id": "f3032623",
   "metadata": {},
   "source": [
    "Explaination -\n",
    "The scatterplot shows a strong positive correlation between HorsePower and Total Speed."
   ]
  },
  {
   "cell_type": "code",
   "execution_count": null,
   "id": "f3a2076c",
   "metadata": {},
   "outputs": [],
   "source": [
    "# Scaling data to Min-Max range [0, 1] for Histplot\n",
    "numeric_columns = ['HorsePower', 'CC/Battery Capacity', 'Total Speed', 'Performance(0 - 100 )KM/H', 'Torque', 'Cars Prices']\n",
    "\n",
    "minmax_scaler = MinMaxScaler()\n",
    "data_minmax = data.copy()\n",
    "data_minmax[numeric_columns] = minmax_scaler.fit_transform(data[numeric_columns])\n",
    "\n",
    "print(\"\\nMinMax Scaling Results:\")\n",
    "print(f\"Ranges after scaling:\")\n",
    "for col in numeric_columns:\n",
    "    print(f\"{col}: {data_minmax[col].min():.3f} to {data_minmax[col].max():.3f}\")\n",
    "\n",
    "# Compare distributions before and after scaling\n",
    "fig, axes = plt.subplots(2, 1, figsize=(12, 8))\n",
    "\n",
    "# Original data\n",
    "sns.histplot(data['CC/Battery Capacity'], ax=axes[0], kde=True)\n",
    "axes[0].set_title('Original CC/Battery Capacity')\n",
    "\n",
    "# Scaled data\n",
    "sns.histplot(data_minmax['CC/Battery Capacity'], ax=axes[1], kde=True)\n",
    "axes[1].set_title('MinMaxScaler CC/Battery Capacity')\n",
    "\n",
    "plt.tight_layout()\n",
    "plt.show()"
   ]
  },
  {
   "cell_type": "markdown",
   "id": "3ec4daea",
   "metadata": {},
   "source": [
    "Explaination -\n",
    "The histogram for the original data shows a skewed distribution with a long tail. The histogram for the scaled data shows a normal distribution with a short tail."
   ]
  },
  {
   "cell_type": "code",
   "execution_count": null,
   "id": "4fe65ada",
   "metadata": {},
   "outputs": [],
   "source": [
    "# Scaling data to Min-Max range [0, 1] for Boxplot\n",
    "numeric_columns = ['HorsePower', 'CC/Battery Capacity', 'Total Speed', 'Performance(0 - 100 )KM/H', 'Torque', 'Cars Prices']\n",
    "\n",
    "minmax_scaler = MinMaxScaler()\n",
    "data_minmax = data.copy()\n",
    "data_minmax[numeric_columns] = minmax_scaler.fit_transform(data[numeric_columns])\n",
    "\n",
    "print(\"\\nMinMax Scaling Results:\")\n",
    "print(f\"Ranges after scaling:\")\n",
    "for col in numeric_columns:\n",
    "    print(f\"{col}: {data_minmax[col].min():.3f} to {data_minmax[col].max():.3f}\")\n",
    "\n",
    "# Compare distributions before and after scaling\n",
    "fig, (ax1, ax2) = plt.subplots(1, 2, figsize=(14, 6))\n",
    "\n",
    "# Boxplot for original data\n",
    "sns.boxplot(y=data['CC/Battery Capacity'], ax=ax1, color='lightblue')\n",
    "ax1.set_title('Original CC/Battery Capacity\\n(Boxplot)')\n",
    "ax1.set_ylabel('CC/Battery Capacity')\n",
    "\n",
    "# Boxplot for scaled data\n",
    "sns.boxplot(y=data_minmax['CC/Battery Capacity'], ax=ax2, color='lightcoral')\n",
    "ax2.set_title('MinMax Scaled CC/Battery Capacity\\n(Boxplot)')\n",
    "ax2.set_ylabel('Scaled CC/Battery Capacity (0-1)')\n"
   ]
  },
  {
   "cell_type": "markdown",
   "id": "2a4a5763",
   "metadata": {},
   "source": [
    "Explaination -\n",
    "The boxplot for the original data shows a skewed distribution with a long tail. The boxplot for the scaled data shows a normal distribution with a short tail."
   ]
  },
  {
   "cell_type": "code",
   "execution_count": null,
   "id": "da7aae1a",
   "metadata": {},
   "outputs": [],
   "source": [
    "# Displaying the pairplot\n",
    "sns.pairplot(data)"
   ]
  },
  {
   "cell_type": "markdown",
   "id": "c57e86c6",
   "metadata": {},
   "source": [
    "Explaination -\n",
    "The pairplot shows a strong positive correlation between HorsePower and Performance, and a weak positive correlation between HorsePower and Total Speed."
   ]
  },
  {
   "cell_type": "markdown",
   "id": "8d910421",
   "metadata": {},
   "source": [
    "# Machine Learning Analysis - Linear Regression"
   ]
  },
  {
   "cell_type": "code",
   "execution_count": null,
   "id": "41080f07",
   "metadata": {},
   "outputs": [],
   "source": [
    "# Training and testing regression analysis model\n",
    "factors = ['CC/Battery Capacity', 'HorsePower', 'Total Speed', 'Performance(0 - 100 )KM/H', 'Torque']\n",
    "X = pd.DataFrame(data[factors].copy())\n",
    "y = data['Cars Prices'].copy()\n",
    "X_train,X_test,y_train,y_test = train_test_split(X,y,test_size = 0.2,random_state=324)\n",
    "reg_model = LinearRegression()\n",
    "reg_model.fit(X_train,y_train)\n",
    "y_pred = reg_model.predict(X_test)\n",
    "reg_model.score(X_test,y_test)\n",
    "print(\"Mean Absolute Error is : $\" , mean_absolute_error(y_test,y_pred))\n",
    "print(\"R^2 is : \", r2_score(y_test,y_pred))\n"
   ]
  },
  {
   "cell_type": "markdown",
   "id": "aeb2cf86",
   "metadata": {},
   "source": [
    "Explaination -\n",
    "The regression analysis model has a mean absolute error of $194307.94220675508 and an R^2 of -0.20042211207549987"
   ]
  }
 ],
 "metadata": {
  "kernelspec": {
   "display_name": "Python 3",
   "language": "python",
   "name": "python3"
  },
  "language_info": {
   "codemirror_mode": {
    "name": "ipython",
    "version": 3
   },
   "file_extension": ".py",
   "mimetype": "text/x-python",
   "name": "python",
   "nbconvert_exporter": "python",
   "pygments_lexer": "ipython3",
   "version": "3.13.5"
  }
 },
 "nbformat": 4,
 "nbformat_minor": 5
}
