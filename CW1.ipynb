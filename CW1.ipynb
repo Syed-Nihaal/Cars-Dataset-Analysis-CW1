{
 "cells": [
  {
   "cell_type": "code",
   "execution_count": 2,
   "id": "4c615b08",
   "metadata": {},
   "outputs": [],
   "source": [
    "# Importing libraries for data analysis\n",
    "import pandas as  pd\n",
    "import chardet\n",
    "import re\n",
    "import numpy as np \n",
    "import matplotlib.pyplot as plt\n",
    "import seaborn as sns\n",
    "\n",
    "# Dataset source: https://www.kaggle.com/datasets/abdulmalik1518/cars-datasets-2025/data\n",
    "# Importing dataset csv file\n",
    "with open(\"Cars Datasets 2025.csv\", 'rb') as file:\n",
    "    encoding = chardet.detect(file.read())['encoding']\n",
    "data = pd.read_csv(\"Cars Datasets 2025.csv\", encoding=encoding)"
   ]
  },
  {
   "cell_type": "code",
   "execution_count": 3,
   "id": "4a6808cc",
   "metadata": {},
   "outputs": [],
   "source": [
    "#Cleaning the data\n",
    "def data_cleaning(a):\n",
    "    if pd.isna(a): \n",
    "        return None\n",
    "    a = str(a).replace(\",\", \"\").replace(\"$\", \"\").strip()\n",
    "    num = [float(x) for x in re.findall(r\"\\d+\\.?\\d*\", a)]\n",
    "    if not num:\n",
    "        return None\n",
    "    return sum(num)/len(num)\n",
    "\n",
    "columns = [\"CC/Battery Capacity\", \"HorsePower\", \"Total Speed\", \"Performance(0 - 100 )KM/H\", \"Cars Prices\", \"Torque\"]\n",
    "for column in columns:\n",
    "    data[column] = data[column].apply(data_cleaning)\n",
    "\n",
    "data[\"Seats\"] = pd.to_numeric(data[\"Seats\"], errors=\"coerce\").astype(\"Int64\")\n",
    "data[\"Company Names\"] = data[\"Company Names\"].str.strip().str.upper()\n",
    "data[\"Cars Names\"] = data[\"Cars Names\"].str.strip().str.title()\n",
    "data[\"Fuel Types\"] = data[\"Fuel Types\"].str.strip().str.lower()\n",
    "data[\"Engines\"] = data[\"Engines\"].str.strip().str.upper()"
   ]
  },
  {
   "cell_type": "code",
   "execution_count": 5,
   "id": "2bb5bcc3",
   "metadata": {},
   "outputs": [
    {
     "data": {
      "application/vnd.microsoft.datawrangler.viewer.v0+json": {
       "columns": [
        {
         "name": "index",
         "rawType": "int64",
         "type": "integer"
        },
        {
         "name": "Company Names",
         "rawType": "object",
         "type": "string"
        },
        {
         "name": "Cars Names",
         "rawType": "object",
         "type": "string"
        },
        {
         "name": "Engines",
         "rawType": "object",
         "type": "string"
        },
        {
         "name": "CC/Battery Capacity",
         "rawType": "float64",
         "type": "float"
        },
        {
         "name": "HorsePower",
         "rawType": "float64",
         "type": "float"
        },
        {
         "name": "Total Speed",
         "rawType": "float64",
         "type": "float"
        },
        {
         "name": "Performance(0 - 100 )KM/H",
         "rawType": "float64",
         "type": "float"
        },
        {
         "name": "Cars Prices",
         "rawType": "float64",
         "type": "float"
        },
        {
         "name": "Fuel Types",
         "rawType": "object",
         "type": "string"
        },
        {
         "name": "Seats",
         "rawType": "Int64",
         "type": "integer"
        },
        {
         "name": "Torque",
         "rawType": "float64",
         "type": "float"
        }
       ],
       "ref": "7a501481-6a2a-4755-af00-fc0291aca03d",
       "rows": [
        [
         "0",
         "FERRARI",
         "Sf90 Stradale",
         "V8",
         "3990.0",
         "963.0",
         "340.0",
         "2.5",
         "1100000.0",
         "plug in hyrbrid",
         "2",
         "800.0"
        ],
        [
         "1",
         "ROLLS ROYCE",
         "Phantom",
         "V12",
         "6749.0",
         "563.0",
         "250.0",
         "5.3",
         "460000.0",
         "petrol",
         "5",
         "900.0"
        ],
        [
         "2",
         "FORD",
         "Ka+",
         "1.2L PETROL",
         "1200.0",
         "77.5",
         "165.0",
         "10.5",
         "13500.0",
         "petrol",
         "5",
         "120.0"
        ],
        [
         "3",
         "MERCEDES",
         "Gt 63 S",
         "V8",
         "3982.0",
         "630.0",
         "250.0",
         "3.2",
         "161000.0",
         "petrol",
         "4",
         "900.0"
        ],
        [
         "4",
         "AUDI",
         "Audi R8 Gt",
         "V10",
         "5204.0",
         "602.0",
         "320.0",
         "3.6",
         "253290.0",
         "petrol",
         "2",
         "560.0"
        ]
       ],
       "shape": {
        "columns": 11,
        "rows": 5
       }
      },
      "text/html": [
       "<div>\n",
       "<style scoped>\n",
       "    .dataframe tbody tr th:only-of-type {\n",
       "        vertical-align: middle;\n",
       "    }\n",
       "\n",
       "    .dataframe tbody tr th {\n",
       "        vertical-align: top;\n",
       "    }\n",
       "\n",
       "    .dataframe thead th {\n",
       "        text-align: right;\n",
       "    }\n",
       "</style>\n",
       "<table border=\"1\" class=\"dataframe\">\n",
       "  <thead>\n",
       "    <tr style=\"text-align: right;\">\n",
       "      <th></th>\n",
       "      <th>Company Names</th>\n",
       "      <th>Cars Names</th>\n",
       "      <th>Engines</th>\n",
       "      <th>CC/Battery Capacity</th>\n",
       "      <th>HorsePower</th>\n",
       "      <th>Total Speed</th>\n",
       "      <th>Performance(0 - 100 )KM/H</th>\n",
       "      <th>Cars Prices</th>\n",
       "      <th>Fuel Types</th>\n",
       "      <th>Seats</th>\n",
       "      <th>Torque</th>\n",
       "    </tr>\n",
       "  </thead>\n",
       "  <tbody>\n",
       "    <tr>\n",
       "      <th>0</th>\n",
       "      <td>FERRARI</td>\n",
       "      <td>Sf90 Stradale</td>\n",
       "      <td>V8</td>\n",
       "      <td>3990.0</td>\n",
       "      <td>963.0</td>\n",
       "      <td>340.0</td>\n",
       "      <td>2.5</td>\n",
       "      <td>1100000.0</td>\n",
       "      <td>plug in hyrbrid</td>\n",
       "      <td>2</td>\n",
       "      <td>800.0</td>\n",
       "    </tr>\n",
       "    <tr>\n",
       "      <th>1</th>\n",
       "      <td>ROLLS ROYCE</td>\n",
       "      <td>Phantom</td>\n",
       "      <td>V12</td>\n",
       "      <td>6749.0</td>\n",
       "      <td>563.0</td>\n",
       "      <td>250.0</td>\n",
       "      <td>5.3</td>\n",
       "      <td>460000.0</td>\n",
       "      <td>petrol</td>\n",
       "      <td>5</td>\n",
       "      <td>900.0</td>\n",
       "    </tr>\n",
       "    <tr>\n",
       "      <th>2</th>\n",
       "      <td>FORD</td>\n",
       "      <td>Ka+</td>\n",
       "      <td>1.2L PETROL</td>\n",
       "      <td>1200.0</td>\n",
       "      <td>77.5</td>\n",
       "      <td>165.0</td>\n",
       "      <td>10.5</td>\n",
       "      <td>13500.0</td>\n",
       "      <td>petrol</td>\n",
       "      <td>5</td>\n",
       "      <td>120.0</td>\n",
       "    </tr>\n",
       "    <tr>\n",
       "      <th>3</th>\n",
       "      <td>MERCEDES</td>\n",
       "      <td>Gt 63 S</td>\n",
       "      <td>V8</td>\n",
       "      <td>3982.0</td>\n",
       "      <td>630.0</td>\n",
       "      <td>250.0</td>\n",
       "      <td>3.2</td>\n",
       "      <td>161000.0</td>\n",
       "      <td>petrol</td>\n",
       "      <td>4</td>\n",
       "      <td>900.0</td>\n",
       "    </tr>\n",
       "    <tr>\n",
       "      <th>4</th>\n",
       "      <td>AUDI</td>\n",
       "      <td>Audi R8 Gt</td>\n",
       "      <td>V10</td>\n",
       "      <td>5204.0</td>\n",
       "      <td>602.0</td>\n",
       "      <td>320.0</td>\n",
       "      <td>3.6</td>\n",
       "      <td>253290.0</td>\n",
       "      <td>petrol</td>\n",
       "      <td>2</td>\n",
       "      <td>560.0</td>\n",
       "    </tr>\n",
       "  </tbody>\n",
       "</table>\n",
       "</div>"
      ],
      "text/plain": [
       "  Company Names     Cars Names      Engines  CC/Battery Capacity  HorsePower  \\\n",
       "0       FERRARI  Sf90 Stradale           V8               3990.0       963.0   \n",
       "1   ROLLS ROYCE        Phantom          V12               6749.0       563.0   \n",
       "2          FORD            Ka+  1.2L PETROL               1200.0        77.5   \n",
       "3      MERCEDES        Gt 63 S           V8               3982.0       630.0   \n",
       "4          AUDI     Audi R8 Gt          V10               5204.0       602.0   \n",
       "\n",
       "   Total Speed  Performance(0 - 100 )KM/H  Cars Prices       Fuel Types  \\\n",
       "0        340.0                        2.5    1100000.0  plug in hyrbrid   \n",
       "1        250.0                        5.3     460000.0           petrol   \n",
       "2        165.0                       10.5      13500.0           petrol   \n",
       "3        250.0                        3.2     161000.0           petrol   \n",
       "4        320.0                        3.6     253290.0           petrol   \n",
       "\n",
       "   Seats  Torque  \n",
       "0      2   800.0  \n",
       "1      5   900.0  \n",
       "2      5   120.0  \n",
       "3      4   900.0  \n",
       "4      2   560.0  "
      ]
     },
     "execution_count": 5,
     "metadata": {},
     "output_type": "execute_result"
    }
   ],
   "source": [
    "# Displaying first 5 rows of the dataset\n",
    "data.head()"
   ]
  },
  {
   "cell_type": "code",
   "execution_count": 6,
   "id": "98025d6b",
   "metadata": {},
   "outputs": [
    {
     "data": {
      "application/vnd.microsoft.datawrangler.viewer.v0+json": {
       "columns": [
        {
         "name": "index",
         "rawType": "int64",
         "type": "integer"
        },
        {
         "name": "Company Names",
         "rawType": "object",
         "type": "string"
        },
        {
         "name": "Cars Names",
         "rawType": "object",
         "type": "string"
        },
        {
         "name": "Engines",
         "rawType": "object",
         "type": "string"
        },
        {
         "name": "CC/Battery Capacity",
         "rawType": "float64",
         "type": "float"
        },
        {
         "name": "HorsePower",
         "rawType": "float64",
         "type": "float"
        },
        {
         "name": "Total Speed",
         "rawType": "float64",
         "type": "float"
        },
        {
         "name": "Performance(0 - 100 )KM/H",
         "rawType": "float64",
         "type": "float"
        },
        {
         "name": "Cars Prices",
         "rawType": "float64",
         "type": "float"
        },
        {
         "name": "Fuel Types",
         "rawType": "object",
         "type": "string"
        },
        {
         "name": "Seats",
         "rawType": "Int64",
         "type": "integer"
        },
        {
         "name": "Torque",
         "rawType": "float64",
         "type": "float"
        }
       ],
       "ref": "7416bdec-9704-4cdd-8fa9-28996f13fcf8",
       "rows": [
        [
         "1213",
         "TOYOTA",
         "Crown Signia",
         "2.5L HYBRID I4",
         "2487.0",
         "240.0",
         "180.0",
         "7.6",
         "45795.0",
         "hybrid (gas + electric)",
         "5",
         "239.0"
        ],
        [
         "1214",
         "TOYOTA",
         "4Runner (6Th Gen)",
         "2.4L TURBO I4 (I-FORCE MAX HYBRID)",
         "2393.0",
         "326.0",
         "180.0",
         "6.8",
         "50000.0",
         "hybrid",
         "7",
         "630.0"
        ],
        [
         "1215",
         "TOYOTA",
         "Corolla Cross",
         "2.0L GAS / 2.0L HYBRID",
         "1987.0",
         "182.5",
         "190.0",
         "8.6",
         "27172.5",
         "gas / hybrid",
         "5",
         "200.0"
        ],
        [
         "1216",
         "TOYOTA",
         "C-Hr+",
         "1.8L / 2.0L HYBRID",
         "1892.5",
         "169.0",
         "180.0",
         "9.2",
         "33000.0",
         "hybrid",
         "5",
         "197.5"
        ],
        [
         "1217",
         "TOYOTA",
         "Rav4 (6Th Gen)",
         "2.5L HYBRID / PLUG-IN HYBRID",
         "2487.0",
         "260.5",
         "200.0",
         "7.05",
         "36000.0",
         "hybrid / plug-in",
         "5",
         "310.5"
        ]
       ],
       "shape": {
        "columns": 11,
        "rows": 5
       }
      },
      "text/html": [
       "<div>\n",
       "<style scoped>\n",
       "    .dataframe tbody tr th:only-of-type {\n",
       "        vertical-align: middle;\n",
       "    }\n",
       "\n",
       "    .dataframe tbody tr th {\n",
       "        vertical-align: top;\n",
       "    }\n",
       "\n",
       "    .dataframe thead th {\n",
       "        text-align: right;\n",
       "    }\n",
       "</style>\n",
       "<table border=\"1\" class=\"dataframe\">\n",
       "  <thead>\n",
       "    <tr style=\"text-align: right;\">\n",
       "      <th></th>\n",
       "      <th>Company Names</th>\n",
       "      <th>Cars Names</th>\n",
       "      <th>Engines</th>\n",
       "      <th>CC/Battery Capacity</th>\n",
       "      <th>HorsePower</th>\n",
       "      <th>Total Speed</th>\n",
       "      <th>Performance(0 - 100 )KM/H</th>\n",
       "      <th>Cars Prices</th>\n",
       "      <th>Fuel Types</th>\n",
       "      <th>Seats</th>\n",
       "      <th>Torque</th>\n",
       "    </tr>\n",
       "  </thead>\n",
       "  <tbody>\n",
       "    <tr>\n",
       "      <th>1213</th>\n",
       "      <td>TOYOTA</td>\n",
       "      <td>Crown Signia</td>\n",
       "      <td>2.5L HYBRID I4</td>\n",
       "      <td>2487.0</td>\n",
       "      <td>240.0</td>\n",
       "      <td>180.0</td>\n",
       "      <td>7.60</td>\n",
       "      <td>45795.0</td>\n",
       "      <td>hybrid (gas + electric)</td>\n",
       "      <td>5</td>\n",
       "      <td>239.0</td>\n",
       "    </tr>\n",
       "    <tr>\n",
       "      <th>1214</th>\n",
       "      <td>TOYOTA</td>\n",
       "      <td>4Runner (6Th Gen)</td>\n",
       "      <td>2.4L TURBO I4 (I-FORCE MAX HYBRID)</td>\n",
       "      <td>2393.0</td>\n",
       "      <td>326.0</td>\n",
       "      <td>180.0</td>\n",
       "      <td>6.80</td>\n",
       "      <td>50000.0</td>\n",
       "      <td>hybrid</td>\n",
       "      <td>7</td>\n",
       "      <td>630.0</td>\n",
       "    </tr>\n",
       "    <tr>\n",
       "      <th>1215</th>\n",
       "      <td>TOYOTA</td>\n",
       "      <td>Corolla Cross</td>\n",
       "      <td>2.0L GAS / 2.0L HYBRID</td>\n",
       "      <td>1987.0</td>\n",
       "      <td>182.5</td>\n",
       "      <td>190.0</td>\n",
       "      <td>8.60</td>\n",
       "      <td>27172.5</td>\n",
       "      <td>gas / hybrid</td>\n",
       "      <td>5</td>\n",
       "      <td>200.0</td>\n",
       "    </tr>\n",
       "    <tr>\n",
       "      <th>1216</th>\n",
       "      <td>TOYOTA</td>\n",
       "      <td>C-Hr+</td>\n",
       "      <td>1.8L / 2.0L HYBRID</td>\n",
       "      <td>1892.5</td>\n",
       "      <td>169.0</td>\n",
       "      <td>180.0</td>\n",
       "      <td>9.20</td>\n",
       "      <td>33000.0</td>\n",
       "      <td>hybrid</td>\n",
       "      <td>5</td>\n",
       "      <td>197.5</td>\n",
       "    </tr>\n",
       "    <tr>\n",
       "      <th>1217</th>\n",
       "      <td>TOYOTA</td>\n",
       "      <td>Rav4 (6Th Gen)</td>\n",
       "      <td>2.5L HYBRID / PLUG-IN HYBRID</td>\n",
       "      <td>2487.0</td>\n",
       "      <td>260.5</td>\n",
       "      <td>200.0</td>\n",
       "      <td>7.05</td>\n",
       "      <td>36000.0</td>\n",
       "      <td>hybrid / plug-in</td>\n",
       "      <td>5</td>\n",
       "      <td>310.5</td>\n",
       "    </tr>\n",
       "  </tbody>\n",
       "</table>\n",
       "</div>"
      ],
      "text/plain": [
       "     Company Names         Cars Names                             Engines  \\\n",
       "1213        TOYOTA       Crown Signia                      2.5L HYBRID I4   \n",
       "1214        TOYOTA  4Runner (6Th Gen)  2.4L TURBO I4 (I-FORCE MAX HYBRID)   \n",
       "1215        TOYOTA      Corolla Cross              2.0L GAS / 2.0L HYBRID   \n",
       "1216        TOYOTA              C-Hr+                  1.8L / 2.0L HYBRID   \n",
       "1217        TOYOTA     Rav4 (6Th Gen)        2.5L HYBRID / PLUG-IN HYBRID   \n",
       "\n",
       "      CC/Battery Capacity  HorsePower  Total Speed  Performance(0 - 100 )KM/H  \\\n",
       "1213               2487.0       240.0        180.0                       7.60   \n",
       "1214               2393.0       326.0        180.0                       6.80   \n",
       "1215               1987.0       182.5        190.0                       8.60   \n",
       "1216               1892.5       169.0        180.0                       9.20   \n",
       "1217               2487.0       260.5        200.0                       7.05   \n",
       "\n",
       "      Cars Prices               Fuel Types  Seats  Torque  \n",
       "1213      45795.0  hybrid (gas + electric)      5   239.0  \n",
       "1214      50000.0                   hybrid      7   630.0  \n",
       "1215      27172.5             gas / hybrid      5   200.0  \n",
       "1216      33000.0                   hybrid      5   197.5  \n",
       "1217      36000.0         hybrid / plug-in      5   310.5  "
      ]
     },
     "execution_count": 6,
     "metadata": {},
     "output_type": "execute_result"
    }
   ],
   "source": [
    "# Displaying the last 5 rows of the dataset\n",
    "data.tail()"
   ]
  },
  {
   "cell_type": "code",
   "execution_count": 7,
   "id": "fcaf2439",
   "metadata": {},
   "outputs": [
    {
     "data": {
      "text/plain": [
       "(1218, 11)"
      ]
     },
     "execution_count": 7,
     "metadata": {},
     "output_type": "execute_result"
    }
   ],
   "source": [
    "# Displaying the shape of the dataset (Rows, Columns)\n",
    "data.shape"
   ]
  },
  {
   "cell_type": "code",
   "execution_count": 8,
   "id": "19256bfa",
   "metadata": {},
   "outputs": [
    {
     "data": {
      "application/vnd.microsoft.datawrangler.viewer.v0+json": {
       "columns": [
        {
         "name": "index",
         "rawType": "object",
         "type": "string"
        },
        {
         "name": "CC/Battery Capacity",
         "rawType": "float64",
         "type": "float"
        },
        {
         "name": "HorsePower",
         "rawType": "float64",
         "type": "float"
        },
        {
         "name": "Total Speed",
         "rawType": "float64",
         "type": "float"
        },
        {
         "name": "Performance(0 - 100 )KM/H",
         "rawType": "float64",
         "type": "float"
        },
        {
         "name": "Cars Prices",
         "rawType": "float64",
         "type": "float"
        },
        {
         "name": "Seats",
         "rawType": "Float64",
         "type": "float"
        },
        {
         "name": "Torque",
         "rawType": "float64",
         "type": "float"
        }
       ],
       "ref": "ca434786-928f-4403-8bda-928acb8f0f19",
       "rows": [
        [
         "count",
         "1213.0",
         "1218.0",
         "1218.0",
         "1212.0",
         "1217.0",
         "1206.0",
         "1217.0"
        ],
        [
         "mean",
         "2703.3116886507282",
         "307.42282430213464",
         "216.4671592775041",
         "7.5646864686468644",
         "138036.9527526705",
         "4.8573797678275294",
         "506.8923582580115"
        ],
        [
         "std",
         "1942.861990625882",
         "222.72292248826284",
         "53.05107681595206",
         "3.3120103465725372",
         "711042.3888223897",
         "1.5033763715643103",
         "1049.5123213099303"
        ],
        [
         "min",
         "1.24",
         "26.0",
         "80.0",
         "1.9",
         "4000.0",
         "1.0",
         "45.0"
        ],
        [
         "25%",
         "1500.0",
         "153.25",
         "180.0",
         "5.275",
         "28000.0",
         "4.0",
         "250.0"
        ],
        [
         "50%",
         "2000.0",
         "255.0",
         "200.0",
         "7.1",
         "42500.0",
         "5.0",
         "370.0"
        ],
        [
         "75%",
         "3500.0",
         "400.0",
         "250.0",
         "9.5",
         "70000.0",
         "5.0",
         "560.0"
        ],
        [
         "max",
         "16100.0",
         "2488.0",
         "500.0",
         "35.0",
         "18000000.0",
         "20.0",
         "15590.0"
        ]
       ],
       "shape": {
        "columns": 7,
        "rows": 8
       }
      },
      "text/html": [
       "<div>\n",
       "<style scoped>\n",
       "    .dataframe tbody tr th:only-of-type {\n",
       "        vertical-align: middle;\n",
       "    }\n",
       "\n",
       "    .dataframe tbody tr th {\n",
       "        vertical-align: top;\n",
       "    }\n",
       "\n",
       "    .dataframe thead th {\n",
       "        text-align: right;\n",
       "    }\n",
       "</style>\n",
       "<table border=\"1\" class=\"dataframe\">\n",
       "  <thead>\n",
       "    <tr style=\"text-align: right;\">\n",
       "      <th></th>\n",
       "      <th>CC/Battery Capacity</th>\n",
       "      <th>HorsePower</th>\n",
       "      <th>Total Speed</th>\n",
       "      <th>Performance(0 - 100 )KM/H</th>\n",
       "      <th>Cars Prices</th>\n",
       "      <th>Seats</th>\n",
       "      <th>Torque</th>\n",
       "    </tr>\n",
       "  </thead>\n",
       "  <tbody>\n",
       "    <tr>\n",
       "      <th>count</th>\n",
       "      <td>1213.000000</td>\n",
       "      <td>1218.000000</td>\n",
       "      <td>1218.000000</td>\n",
       "      <td>1212.000000</td>\n",
       "      <td>1.217000e+03</td>\n",
       "      <td>1206.0</td>\n",
       "      <td>1217.000000</td>\n",
       "    </tr>\n",
       "    <tr>\n",
       "      <th>mean</th>\n",
       "      <td>2703.311689</td>\n",
       "      <td>307.422824</td>\n",
       "      <td>216.467159</td>\n",
       "      <td>7.564686</td>\n",
       "      <td>1.380370e+05</td>\n",
       "      <td>4.85738</td>\n",
       "      <td>506.892358</td>\n",
       "    </tr>\n",
       "    <tr>\n",
       "      <th>std</th>\n",
       "      <td>1942.861991</td>\n",
       "      <td>222.722922</td>\n",
       "      <td>53.051077</td>\n",
       "      <td>3.312010</td>\n",
       "      <td>7.110424e+05</td>\n",
       "      <td>1.503376</td>\n",
       "      <td>1049.512321</td>\n",
       "    </tr>\n",
       "    <tr>\n",
       "      <th>min</th>\n",
       "      <td>1.240000</td>\n",
       "      <td>26.000000</td>\n",
       "      <td>80.000000</td>\n",
       "      <td>1.900000</td>\n",
       "      <td>4.000000e+03</td>\n",
       "      <td>1.0</td>\n",
       "      <td>45.000000</td>\n",
       "    </tr>\n",
       "    <tr>\n",
       "      <th>25%</th>\n",
       "      <td>1500.000000</td>\n",
       "      <td>153.250000</td>\n",
       "      <td>180.000000</td>\n",
       "      <td>5.275000</td>\n",
       "      <td>2.800000e+04</td>\n",
       "      <td>4.0</td>\n",
       "      <td>250.000000</td>\n",
       "    </tr>\n",
       "    <tr>\n",
       "      <th>50%</th>\n",
       "      <td>2000.000000</td>\n",
       "      <td>255.000000</td>\n",
       "      <td>200.000000</td>\n",
       "      <td>7.100000</td>\n",
       "      <td>4.250000e+04</td>\n",
       "      <td>5.0</td>\n",
       "      <td>370.000000</td>\n",
       "    </tr>\n",
       "    <tr>\n",
       "      <th>75%</th>\n",
       "      <td>3500.000000</td>\n",
       "      <td>400.000000</td>\n",
       "      <td>250.000000</td>\n",
       "      <td>9.500000</td>\n",
       "      <td>7.000000e+04</td>\n",
       "      <td>5.0</td>\n",
       "      <td>560.000000</td>\n",
       "    </tr>\n",
       "    <tr>\n",
       "      <th>max</th>\n",
       "      <td>16100.000000</td>\n",
       "      <td>2488.000000</td>\n",
       "      <td>500.000000</td>\n",
       "      <td>35.000000</td>\n",
       "      <td>1.800000e+07</td>\n",
       "      <td>20.0</td>\n",
       "      <td>15590.000000</td>\n",
       "    </tr>\n",
       "  </tbody>\n",
       "</table>\n",
       "</div>"
      ],
      "text/plain": [
       "       CC/Battery Capacity   HorsePower  Total Speed  \\\n",
       "count          1213.000000  1218.000000  1218.000000   \n",
       "mean           2703.311689   307.422824   216.467159   \n",
       "std            1942.861991   222.722922    53.051077   \n",
       "min               1.240000    26.000000    80.000000   \n",
       "25%            1500.000000   153.250000   180.000000   \n",
       "50%            2000.000000   255.000000   200.000000   \n",
       "75%            3500.000000   400.000000   250.000000   \n",
       "max           16100.000000  2488.000000   500.000000   \n",
       "\n",
       "       Performance(0 - 100 )KM/H   Cars Prices     Seats        Torque  \n",
       "count                1212.000000  1.217000e+03    1206.0   1217.000000  \n",
       "mean                    7.564686  1.380370e+05   4.85738    506.892358  \n",
       "std                     3.312010  7.110424e+05  1.503376   1049.512321  \n",
       "min                     1.900000  4.000000e+03       1.0     45.000000  \n",
       "25%                     5.275000  2.800000e+04       4.0    250.000000  \n",
       "50%                     7.100000  4.250000e+04       5.0    370.000000  \n",
       "75%                     9.500000  7.000000e+04       5.0    560.000000  \n",
       "max                    35.000000  1.800000e+07      20.0  15590.000000  "
      ]
     },
     "execution_count": 8,
     "metadata": {},
     "output_type": "execute_result"
    }
   ],
   "source": [
    "# Discribing the dataset\n",
    "data.describe()"
   ]
  },
  {
   "cell_type": "code",
   "execution_count": 9,
   "id": "3bcd9e01",
   "metadata": {},
   "outputs": [
    {
     "data": {
      "application/vnd.microsoft.datawrangler.viewer.v0+json": {
       "columns": [
        {
         "name": "index",
         "rawType": "object",
         "type": "string"
        },
        {
         "name": "0",
         "rawType": "object",
         "type": "unknown"
        }
       ],
       "ref": "9debf3cd-3de5-479e-a5c2-55bb95319ed2",
       "rows": [
        [
         "Company Names",
         "object"
        ],
        [
         "Cars Names",
         "object"
        ],
        [
         "Engines",
         "object"
        ],
        [
         "CC/Battery Capacity",
         "float64"
        ],
        [
         "HorsePower",
         "float64"
        ],
        [
         "Total Speed",
         "float64"
        ],
        [
         "Performance(0 - 100 )KM/H",
         "float64"
        ],
        [
         "Cars Prices",
         "float64"
        ],
        [
         "Fuel Types",
         "object"
        ],
        [
         "Seats",
         "Int64"
        ],
        [
         "Torque",
         "float64"
        ]
       ],
       "shape": {
        "columns": 1,
        "rows": 11
       }
      },
      "text/plain": [
       "Company Names                 object\n",
       "Cars Names                    object\n",
       "Engines                       object\n",
       "CC/Battery Capacity          float64\n",
       "HorsePower                   float64\n",
       "Total Speed                  float64\n",
       "Performance(0 - 100 )KM/H    float64\n",
       "Cars Prices                  float64\n",
       "Fuel Types                    object\n",
       "Seats                          Int64\n",
       "Torque                       float64\n",
       "dtype: object"
      ]
     },
     "execution_count": 9,
     "metadata": {},
     "output_type": "execute_result"
    }
   ],
   "source": [
    "# Displaying the data types\n",
    "data.dtypes"
   ]
  },
  {
   "cell_type": "code",
   "execution_count": 10,
   "id": "ea030ddd",
   "metadata": {},
   "outputs": [
    {
     "data": {
      "text/plain": [
       "np.int64(5)"
      ]
     },
     "execution_count": 10,
     "metadata": {},
     "output_type": "execute_result"
    }
   ],
   "source": [
    "# Displaying the number of duplicate rows\n",
    "data.duplicated().sum()"
   ]
  },
  {
   "cell_type": "code",
   "execution_count": 11,
   "id": "5305bcf6",
   "metadata": {},
   "outputs": [
    {
     "data": {
      "application/vnd.microsoft.datawrangler.viewer.v0+json": {
       "columns": [
        {
         "name": "index",
         "rawType": "int64",
         "type": "integer"
        },
        {
         "name": "Company Names",
         "rawType": "object",
         "type": "string"
        },
        {
         "name": "Cars Names",
         "rawType": "object",
         "type": "string"
        },
        {
         "name": "Engines",
         "rawType": "object",
         "type": "string"
        },
        {
         "name": "CC/Battery Capacity",
         "rawType": "float64",
         "type": "float"
        },
        {
         "name": "HorsePower",
         "rawType": "float64",
         "type": "float"
        },
        {
         "name": "Total Speed",
         "rawType": "float64",
         "type": "float"
        },
        {
         "name": "Performance(0 - 100 )KM/H",
         "rawType": "float64",
         "type": "float"
        },
        {
         "name": "Cars Prices",
         "rawType": "float64",
         "type": "float"
        },
        {
         "name": "Fuel Types",
         "rawType": "object",
         "type": "string"
        },
        {
         "name": "Seats",
         "rawType": "Int64",
         "type": "integer"
        },
        {
         "name": "Torque",
         "rawType": "float64",
         "type": "float"
        }
       ],
       "ref": "253d8344-002f-4036-ad1c-833913d273e8",
       "rows": [
        [
         "2",
         "FORD",
         "Ka+",
         "1.2L PETROL",
         "1200.0",
         "77.5",
         "165.0",
         "10.5",
         "13500.0",
         "petrol",
         "5",
         "120.0"
        ],
        [
         "314",
         "VOLKSWAGEN",
         "Golf Cabriolet",
         "1.2L I4 TURBO / 2.0L I4 TURBO",
         "1590.5",
         "157.5",
         "217.0",
         "8.4",
         "30000.0",
         "petrol",
         "4",
         "200.0"
        ],
        [
         "336",
         "VOLKSWAGEN",
         "Golf Cabriolet",
         "1.2L I4 TURBO / 2.0L I4 TURBO",
         "1590.5",
         "157.5",
         "217.0",
         "8.4",
         "30000.0",
         "petrol",
         "4",
         "200.0"
        ],
        [
         "348",
         "VOLKSWAGEN",
         "Jetta Hybrid",
         "1.4L I4 TURBO + ELECTRIC MOTOR",
         "1395.0",
         "170.0",
         "210.0",
         "8.6",
         "28000.0",
         "hybrid",
         "5",
         "250.0"
        ],
        [
         "354",
         "VOLKSWAGEN",
         "Jetta Hybrid",
         "1.4L I4 TURBO + ELECTRIC MOTOR",
         "1395.0",
         "170.0",
         "210.0",
         "8.6",
         "28000.0",
         "hybrid",
         "5",
         "250.0"
        ],
        [
         "629",
         "TATA MOTORS",
         "Tiago Ev",
         "PERMANENT MAGNET SYNCHRONOUS",
         "24.0",
         "74.0",
         "120.0",
         "5.7",
         "11000.0",
         "electric",
         "5",
         "114.0"
        ],
        [
         "658",
         "TATA MOTORS",
         "Tiago Ev",
         "PERMANENT MAGNET SYNCHRONOUS",
         "24.0",
         "74.0",
         "120.0",
         "5.7",
         "11000.0",
         "electric",
         "5",
         "114.0"
        ],
        [
         "750",
         "CHEVROLET",
         "Tahoe Rst",
         "5.3L V8 GASOLINE",
         "5300.0",
         "355.0",
         "180.0",
         "7.4",
         "64100.0",
         "petrol",
         "7",
         "519.0"
        ],
        [
         "755",
         "CHEVROLET",
         "Tahoe Rst",
         "5.3L V8 GASOLINE",
         "5300.0",
         "355.0",
         "180.0",
         "7.4",
         "64100.0",
         "petrol",
         "7",
         "519.0"
        ],
        [
         "1018",
         "FORD",
         "Ka+",
         "1.2L PETROL",
         "1200.0",
         "77.5",
         "165.0",
         "10.5",
         "13500.0",
         "petrol",
         "5",
         "120.0"
        ]
       ],
       "shape": {
        "columns": 11,
        "rows": 10
       }
      },
      "text/html": [
       "<div>\n",
       "<style scoped>\n",
       "    .dataframe tbody tr th:only-of-type {\n",
       "        vertical-align: middle;\n",
       "    }\n",
       "\n",
       "    .dataframe tbody tr th {\n",
       "        vertical-align: top;\n",
       "    }\n",
       "\n",
       "    .dataframe thead th {\n",
       "        text-align: right;\n",
       "    }\n",
       "</style>\n",
       "<table border=\"1\" class=\"dataframe\">\n",
       "  <thead>\n",
       "    <tr style=\"text-align: right;\">\n",
       "      <th></th>\n",
       "      <th>Company Names</th>\n",
       "      <th>Cars Names</th>\n",
       "      <th>Engines</th>\n",
       "      <th>CC/Battery Capacity</th>\n",
       "      <th>HorsePower</th>\n",
       "      <th>Total Speed</th>\n",
       "      <th>Performance(0 - 100 )KM/H</th>\n",
       "      <th>Cars Prices</th>\n",
       "      <th>Fuel Types</th>\n",
       "      <th>Seats</th>\n",
       "      <th>Torque</th>\n",
       "    </tr>\n",
       "  </thead>\n",
       "  <tbody>\n",
       "    <tr>\n",
       "      <th>2</th>\n",
       "      <td>FORD</td>\n",
       "      <td>Ka+</td>\n",
       "      <td>1.2L PETROL</td>\n",
       "      <td>1200.0</td>\n",
       "      <td>77.5</td>\n",
       "      <td>165.0</td>\n",
       "      <td>10.5</td>\n",
       "      <td>13500.0</td>\n",
       "      <td>petrol</td>\n",
       "      <td>5</td>\n",
       "      <td>120.0</td>\n",
       "    </tr>\n",
       "    <tr>\n",
       "      <th>314</th>\n",
       "      <td>VOLKSWAGEN</td>\n",
       "      <td>Golf Cabriolet</td>\n",
       "      <td>1.2L I4 TURBO / 2.0L I4 TURBO</td>\n",
       "      <td>1590.5</td>\n",
       "      <td>157.5</td>\n",
       "      <td>217.0</td>\n",
       "      <td>8.4</td>\n",
       "      <td>30000.0</td>\n",
       "      <td>petrol</td>\n",
       "      <td>4</td>\n",
       "      <td>200.0</td>\n",
       "    </tr>\n",
       "    <tr>\n",
       "      <th>336</th>\n",
       "      <td>VOLKSWAGEN</td>\n",
       "      <td>Golf Cabriolet</td>\n",
       "      <td>1.2L I4 TURBO / 2.0L I4 TURBO</td>\n",
       "      <td>1590.5</td>\n",
       "      <td>157.5</td>\n",
       "      <td>217.0</td>\n",
       "      <td>8.4</td>\n",
       "      <td>30000.0</td>\n",
       "      <td>petrol</td>\n",
       "      <td>4</td>\n",
       "      <td>200.0</td>\n",
       "    </tr>\n",
       "    <tr>\n",
       "      <th>348</th>\n",
       "      <td>VOLKSWAGEN</td>\n",
       "      <td>Jetta Hybrid</td>\n",
       "      <td>1.4L I4 TURBO + ELECTRIC MOTOR</td>\n",
       "      <td>1395.0</td>\n",
       "      <td>170.0</td>\n",
       "      <td>210.0</td>\n",
       "      <td>8.6</td>\n",
       "      <td>28000.0</td>\n",
       "      <td>hybrid</td>\n",
       "      <td>5</td>\n",
       "      <td>250.0</td>\n",
       "    </tr>\n",
       "    <tr>\n",
       "      <th>354</th>\n",
       "      <td>VOLKSWAGEN</td>\n",
       "      <td>Jetta Hybrid</td>\n",
       "      <td>1.4L I4 TURBO + ELECTRIC MOTOR</td>\n",
       "      <td>1395.0</td>\n",
       "      <td>170.0</td>\n",
       "      <td>210.0</td>\n",
       "      <td>8.6</td>\n",
       "      <td>28000.0</td>\n",
       "      <td>hybrid</td>\n",
       "      <td>5</td>\n",
       "      <td>250.0</td>\n",
       "    </tr>\n",
       "    <tr>\n",
       "      <th>629</th>\n",
       "      <td>TATA MOTORS</td>\n",
       "      <td>Tiago Ev</td>\n",
       "      <td>PERMANENT MAGNET SYNCHRONOUS</td>\n",
       "      <td>24.0</td>\n",
       "      <td>74.0</td>\n",
       "      <td>120.0</td>\n",
       "      <td>5.7</td>\n",
       "      <td>11000.0</td>\n",
       "      <td>electric</td>\n",
       "      <td>5</td>\n",
       "      <td>114.0</td>\n",
       "    </tr>\n",
       "    <tr>\n",
       "      <th>658</th>\n",
       "      <td>TATA MOTORS</td>\n",
       "      <td>Tiago Ev</td>\n",
       "      <td>PERMANENT MAGNET SYNCHRONOUS</td>\n",
       "      <td>24.0</td>\n",
       "      <td>74.0</td>\n",
       "      <td>120.0</td>\n",
       "      <td>5.7</td>\n",
       "      <td>11000.0</td>\n",
       "      <td>electric</td>\n",
       "      <td>5</td>\n",
       "      <td>114.0</td>\n",
       "    </tr>\n",
       "    <tr>\n",
       "      <th>750</th>\n",
       "      <td>CHEVROLET</td>\n",
       "      <td>Tahoe Rst</td>\n",
       "      <td>5.3L V8 GASOLINE</td>\n",
       "      <td>5300.0</td>\n",
       "      <td>355.0</td>\n",
       "      <td>180.0</td>\n",
       "      <td>7.4</td>\n",
       "      <td>64100.0</td>\n",
       "      <td>petrol</td>\n",
       "      <td>7</td>\n",
       "      <td>519.0</td>\n",
       "    </tr>\n",
       "    <tr>\n",
       "      <th>755</th>\n",
       "      <td>CHEVROLET</td>\n",
       "      <td>Tahoe Rst</td>\n",
       "      <td>5.3L V8 GASOLINE</td>\n",
       "      <td>5300.0</td>\n",
       "      <td>355.0</td>\n",
       "      <td>180.0</td>\n",
       "      <td>7.4</td>\n",
       "      <td>64100.0</td>\n",
       "      <td>petrol</td>\n",
       "      <td>7</td>\n",
       "      <td>519.0</td>\n",
       "    </tr>\n",
       "    <tr>\n",
       "      <th>1018</th>\n",
       "      <td>FORD</td>\n",
       "      <td>Ka+</td>\n",
       "      <td>1.2L PETROL</td>\n",
       "      <td>1200.0</td>\n",
       "      <td>77.5</td>\n",
       "      <td>165.0</td>\n",
       "      <td>10.5</td>\n",
       "      <td>13500.0</td>\n",
       "      <td>petrol</td>\n",
       "      <td>5</td>\n",
       "      <td>120.0</td>\n",
       "    </tr>\n",
       "  </tbody>\n",
       "</table>\n",
       "</div>"
      ],
      "text/plain": [
       "     Company Names      Cars Names                         Engines  \\\n",
       "2             FORD             Ka+                     1.2L PETROL   \n",
       "314     VOLKSWAGEN  Golf Cabriolet   1.2L I4 TURBO / 2.0L I4 TURBO   \n",
       "336     VOLKSWAGEN  Golf Cabriolet   1.2L I4 TURBO / 2.0L I4 TURBO   \n",
       "348     VOLKSWAGEN    Jetta Hybrid  1.4L I4 TURBO + ELECTRIC MOTOR   \n",
       "354     VOLKSWAGEN    Jetta Hybrid  1.4L I4 TURBO + ELECTRIC MOTOR   \n",
       "629    TATA MOTORS        Tiago Ev    PERMANENT MAGNET SYNCHRONOUS   \n",
       "658    TATA MOTORS        Tiago Ev    PERMANENT MAGNET SYNCHRONOUS   \n",
       "750      CHEVROLET       Tahoe Rst                5.3L V8 GASOLINE   \n",
       "755      CHEVROLET       Tahoe Rst                5.3L V8 GASOLINE   \n",
       "1018          FORD             Ka+                     1.2L PETROL   \n",
       "\n",
       "      CC/Battery Capacity  HorsePower  Total Speed  Performance(0 - 100 )KM/H  \\\n",
       "2                  1200.0        77.5        165.0                       10.5   \n",
       "314                1590.5       157.5        217.0                        8.4   \n",
       "336                1590.5       157.5        217.0                        8.4   \n",
       "348                1395.0       170.0        210.0                        8.6   \n",
       "354                1395.0       170.0        210.0                        8.6   \n",
       "629                  24.0        74.0        120.0                        5.7   \n",
       "658                  24.0        74.0        120.0                        5.7   \n",
       "750                5300.0       355.0        180.0                        7.4   \n",
       "755                5300.0       355.0        180.0                        7.4   \n",
       "1018               1200.0        77.5        165.0                       10.5   \n",
       "\n",
       "      Cars Prices Fuel Types  Seats  Torque  \n",
       "2         13500.0     petrol      5   120.0  \n",
       "314       30000.0     petrol      4   200.0  \n",
       "336       30000.0     petrol      4   200.0  \n",
       "348       28000.0     hybrid      5   250.0  \n",
       "354       28000.0     hybrid      5   250.0  \n",
       "629       11000.0   electric      5   114.0  \n",
       "658       11000.0   electric      5   114.0  \n",
       "750       64100.0     petrol      7   519.0  \n",
       "755       64100.0     petrol      7   519.0  \n",
       "1018      13500.0     petrol      5   120.0  "
      ]
     },
     "execution_count": 11,
     "metadata": {},
     "output_type": "execute_result"
    }
   ],
   "source": [
    "# Displaying the duplicate rows if found\n",
    "data[data.duplicated(keep=False)]"
   ]
  },
  {
   "cell_type": "code",
   "execution_count": 12,
   "id": "a6df21cf",
   "metadata": {},
   "outputs": [
    {
     "data": {
      "text/plain": [
       "np.int64(0)"
      ]
     },
     "execution_count": 12,
     "metadata": {},
     "output_type": "execute_result"
    }
   ],
   "source": [
    "# Handling duplicate data by dropping the rows with duplicate values if found\n",
    "data.drop_duplicates(inplace=True)\n",
    "data.duplicated().sum()"
   ]
  },
  {
   "cell_type": "code",
   "execution_count": 13,
   "id": "46580b25",
   "metadata": {},
   "outputs": [
    {
     "data": {
      "application/vnd.microsoft.datawrangler.viewer.v0+json": {
       "columns": [
        {
         "name": "index",
         "rawType": "object",
         "type": "string"
        },
        {
         "name": "0",
         "rawType": "int64",
         "type": "integer"
        }
       ],
       "ref": "ae233ede-bac4-4d74-9609-46aae34822d2",
       "rows": [
        [
         "Company Names",
         "0"
        ],
        [
         "Cars Names",
         "0"
        ],
        [
         "Engines",
         "0"
        ],
        [
         "CC/Battery Capacity",
         "5"
        ],
        [
         "HorsePower",
         "0"
        ],
        [
         "Total Speed",
         "0"
        ],
        [
         "Performance(0 - 100 )KM/H",
         "6"
        ],
        [
         "Cars Prices",
         "1"
        ],
        [
         "Fuel Types",
         "0"
        ],
        [
         "Seats",
         "12"
        ],
        [
         "Torque",
         "1"
        ]
       ],
       "shape": {
        "columns": 1,
        "rows": 11
       }
      },
      "text/plain": [
       "Company Names                 0\n",
       "Cars Names                    0\n",
       "Engines                       0\n",
       "CC/Battery Capacity           5\n",
       "HorsePower                    0\n",
       "Total Speed                   0\n",
       "Performance(0 - 100 )KM/H     6\n",
       "Cars Prices                   1\n",
       "Fuel Types                    0\n",
       "Seats                        12\n",
       "Torque                        1\n",
       "dtype: int64"
      ]
     },
     "execution_count": 13,
     "metadata": {},
     "output_type": "execute_result"
    }
   ],
   "source": [
    "# Displaying the number of missing values\n",
    "data.isnull().sum()"
   ]
  },
  {
   "cell_type": "code",
   "execution_count": 14,
   "id": "6930d504",
   "metadata": {},
   "outputs": [
    {
     "data": {
      "application/vnd.microsoft.datawrangler.viewer.v0+json": {
       "columns": [
        {
         "name": "index",
         "rawType": "int64",
         "type": "integer"
        },
        {
         "name": "Company Names",
         "rawType": "object",
         "type": "string"
        },
        {
         "name": "Cars Names",
         "rawType": "object",
         "type": "string"
        },
        {
         "name": "Engines",
         "rawType": "object",
         "type": "string"
        },
        {
         "name": "CC/Battery Capacity",
         "rawType": "float64",
         "type": "float"
        },
        {
         "name": "HorsePower",
         "rawType": "float64",
         "type": "float"
        },
        {
         "name": "Total Speed",
         "rawType": "float64",
         "type": "float"
        },
        {
         "name": "Performance(0 - 100 )KM/H",
         "rawType": "float64",
         "type": "float"
        },
        {
         "name": "Cars Prices",
         "rawType": "float64",
         "type": "float"
        },
        {
         "name": "Fuel Types",
         "rawType": "object",
         "type": "string"
        },
        {
         "name": "Seats",
         "rawType": "Int64",
         "type": "integer"
        },
        {
         "name": "Torque",
         "rawType": "float64",
         "type": "float"
        }
       ],
       "ref": "b1a8806e-3116-4f19-8f7d-dad2975aff29",
       "rows": [
        [
         "11",
         "FERRARI",
         "Portofino",
         "V8",
         "3900.0",
         "592.0",
         "320.0",
         "3.2",
         "210000.0",
         "petrol",
         null,
         "760.0"
        ],
        [
         "12",
         "FERRARI",
         "Roma",
         "V8",
         "3900.0",
         "612.0",
         "320.0",
         "3.4",
         "230000.0",
         "petrol",
         null,
         "760.0"
        ],
        [
         "15",
         "FERRARI",
         "Portofino M",
         "V8",
         "3900.0",
         "612.0",
         "320.0",
         "3.2",
         "220000.0",
         "petrol",
         null,
         "760.0"
        ],
        [
         "16",
         "FERRARI",
         "Roma Spider",
         "V8",
         "3900.0",
         "612.0",
         "320.0",
         "3.4",
         "240000.0",
         "petrol",
         null,
         "760.0"
        ],
        [
         "18",
         "TOYOTA",
         "Toyota 86",
         "BOXER-4",
         "1998.0",
         "205.0",
         "226.0",
         "6.4",
         "27000.0",
         "petrol",
         null,
         "205.0"
        ],
        [
         "97",
         "MERCEDES",
         "Benz Eqs 53",
         "ELECTRIC MOTOR",
         null,
         "751.0",
         "250.0",
         "3.4",
         "102000.0",
         "electric",
         "5",
         "950.0"
        ],
        [
         "241",
         "TOYOTA",
         "Coaster",
         "4.0L,DIESEL",
         "4009.0",
         "134.0",
         "120.0",
         null,
         "70000.0",
         "diesel",
         "20",
         "500.0"
        ],
        [
         "255",
         "NISSAN",
         "Urvan",
         "2.5L TURBO DIESE",
         null,
         "2488.0",
         "140.0",
         "14.0",
         "28000.0",
         "diesel",
         "15",
         "356.0"
        ],
        [
         "994",
         "PEUGEOT",
         "Partner Electric",
         "ELECTRIC MOTOR",
         null,
         "136.0",
         "130.0",
         "9.0",
         "40000.0",
         "electric",
         "5",
         "260.0"
        ],
        [
         "995",
         "PEUGEOT",
         "Expert Electric",
         "ELECTRIC MOTOR",
         null,
         "136.0",
         "130.0",
         "9.5",
         "45000.0",
         "electric",
         "5",
         "260.0"
        ],
        [
         "1046",
         "FORD",
         "Transit",
         "ECOBLUE TURBO DIESEL",
         "2000.0",
         "170.0",
         "160.0",
         "12.0",
         "43455.0",
         "diesel",
         null,
         "405.0"
        ],
        [
         "1047",
         "FORD",
         "Transit Connect",
         "INLINE-4 GASOLINE ENGINE",
         "2000.0",
         "162.0",
         "175.0",
         "10.5",
         "29365.0",
         "petrol",
         null,
         "200.0"
        ],
        [
         "1048",
         "FORD",
         "F-450 Super Duty",
         "TURBOCHARGED V8 DIESEL",
         "6700.0",
         "475.0",
         "165.0",
         "8.5",
         "61625.0",
         "diesel",
         null,
         "1424.0"
        ],
        [
         "1049",
         "FORD",
         "F-550 Super Duty",
         "TURBOCHARGED V8 DIESEL",
         "6700.0",
         "475.0",
         "165.0",
         "8.8",
         "64540.0",
         "diesel",
         null,
         "1424.0"
        ],
        [
         "1055",
         "FORD",
         "Expedition King Ranch",
         "TURBOCHARGED V6",
         "3500.0",
         "440.0",
         "210.0",
         "6.8",
         "79560.0",
         "petrol",
         null,
         "691.0"
        ],
        [
         "1056",
         "FORD",
         "Transit Custom",
         "ECOBLUE TURBO DIESEL",
         "2000.0",
         "130.0",
         "160.0",
         "12.5",
         "35000.0",
         "diesel",
         null,
         "385.0"
        ],
        [
         "1059",
         "FORD",
         "Transit Electric (E-Transit)",
         "ELECTRIC MOTOR",
         "89.0",
         "266.0",
         "140.0",
         "9.0",
         "52000.0",
         "electric",
         null,
         "430.0"
        ],
        [
         "1096",
         "MITSUBISHI",
         "Canter (Truck)",
         "3.0L DIESEL",
         "3000.0",
         "150.0",
         "120.0",
         null,
         "40000.0",
         "diesel",
         "2",
         "370.0"
        ],
        [
         "1107",
         "MITSUBISHI",
         "Fuso Fighter (Truck)",
         "7.5L DIESEL",
         "7500.0",
         "240.0",
         "120.0",
         null,
         "80000.0",
         "diesel",
         "2",
         "686.0"
        ],
        [
         "1108",
         "MITSUBISHI",
         "Fuso Canter Eco Hybrid",
         "3.0L DIESEL HYBRID",
         "3000.0",
         "150.0",
         "120.0",
         null,
         "55000.0",
         "diesel hybrid",
         "2",
         "370.0"
        ],
        [
         "1126",
         "MITSUBISHI",
         "Minicab Miev",
         "ELECTRIC MOTOR",
         "16.0",
         "64.0",
         "100.0",
         null,
         "19000.0",
         "electric",
         "2",
         "196.0"
        ],
        [
         "1147",
         "MAZDA",
         "Rx-Vision Concept",
         "ROTARY SKYACTIV-R",
         null,
         "400.0",
         "300.0",
         null,
         null,
         "petrol (hybrid)",
         "2",
         null
        ]
       ],
       "shape": {
        "columns": 11,
        "rows": 22
       }
      },
      "text/html": [
       "<div>\n",
       "<style scoped>\n",
       "    .dataframe tbody tr th:only-of-type {\n",
       "        vertical-align: middle;\n",
       "    }\n",
       "\n",
       "    .dataframe tbody tr th {\n",
       "        vertical-align: top;\n",
       "    }\n",
       "\n",
       "    .dataframe thead th {\n",
       "        text-align: right;\n",
       "    }\n",
       "</style>\n",
       "<table border=\"1\" class=\"dataframe\">\n",
       "  <thead>\n",
       "    <tr style=\"text-align: right;\">\n",
       "      <th></th>\n",
       "      <th>Company Names</th>\n",
       "      <th>Cars Names</th>\n",
       "      <th>Engines</th>\n",
       "      <th>CC/Battery Capacity</th>\n",
       "      <th>HorsePower</th>\n",
       "      <th>Total Speed</th>\n",
       "      <th>Performance(0 - 100 )KM/H</th>\n",
       "      <th>Cars Prices</th>\n",
       "      <th>Fuel Types</th>\n",
       "      <th>Seats</th>\n",
       "      <th>Torque</th>\n",
       "    </tr>\n",
       "  </thead>\n",
       "  <tbody>\n",
       "    <tr>\n",
       "      <th>11</th>\n",
       "      <td>FERRARI</td>\n",
       "      <td>Portofino</td>\n",
       "      <td>V8</td>\n",
       "      <td>3900.0</td>\n",
       "      <td>592.0</td>\n",
       "      <td>320.0</td>\n",
       "      <td>3.2</td>\n",
       "      <td>210000.0</td>\n",
       "      <td>petrol</td>\n",
       "      <td>&lt;NA&gt;</td>\n",
       "      <td>760.0</td>\n",
       "    </tr>\n",
       "    <tr>\n",
       "      <th>12</th>\n",
       "      <td>FERRARI</td>\n",
       "      <td>Roma</td>\n",
       "      <td>V8</td>\n",
       "      <td>3900.0</td>\n",
       "      <td>612.0</td>\n",
       "      <td>320.0</td>\n",
       "      <td>3.4</td>\n",
       "      <td>230000.0</td>\n",
       "      <td>petrol</td>\n",
       "      <td>&lt;NA&gt;</td>\n",
       "      <td>760.0</td>\n",
       "    </tr>\n",
       "    <tr>\n",
       "      <th>15</th>\n",
       "      <td>FERRARI</td>\n",
       "      <td>Portofino M</td>\n",
       "      <td>V8</td>\n",
       "      <td>3900.0</td>\n",
       "      <td>612.0</td>\n",
       "      <td>320.0</td>\n",
       "      <td>3.2</td>\n",
       "      <td>220000.0</td>\n",
       "      <td>petrol</td>\n",
       "      <td>&lt;NA&gt;</td>\n",
       "      <td>760.0</td>\n",
       "    </tr>\n",
       "    <tr>\n",
       "      <th>16</th>\n",
       "      <td>FERRARI</td>\n",
       "      <td>Roma Spider</td>\n",
       "      <td>V8</td>\n",
       "      <td>3900.0</td>\n",
       "      <td>612.0</td>\n",
       "      <td>320.0</td>\n",
       "      <td>3.4</td>\n",
       "      <td>240000.0</td>\n",
       "      <td>petrol</td>\n",
       "      <td>&lt;NA&gt;</td>\n",
       "      <td>760.0</td>\n",
       "    </tr>\n",
       "    <tr>\n",
       "      <th>18</th>\n",
       "      <td>TOYOTA</td>\n",
       "      <td>Toyota 86</td>\n",
       "      <td>BOXER-4</td>\n",
       "      <td>1998.0</td>\n",
       "      <td>205.0</td>\n",
       "      <td>226.0</td>\n",
       "      <td>6.4</td>\n",
       "      <td>27000.0</td>\n",
       "      <td>petrol</td>\n",
       "      <td>&lt;NA&gt;</td>\n",
       "      <td>205.0</td>\n",
       "    </tr>\n",
       "    <tr>\n",
       "      <th>97</th>\n",
       "      <td>MERCEDES</td>\n",
       "      <td>Benz Eqs 53</td>\n",
       "      <td>ELECTRIC MOTOR</td>\n",
       "      <td>NaN</td>\n",
       "      <td>751.0</td>\n",
       "      <td>250.0</td>\n",
       "      <td>3.4</td>\n",
       "      <td>102000.0</td>\n",
       "      <td>electric</td>\n",
       "      <td>5</td>\n",
       "      <td>950.0</td>\n",
       "    </tr>\n",
       "    <tr>\n",
       "      <th>241</th>\n",
       "      <td>TOYOTA</td>\n",
       "      <td>Coaster</td>\n",
       "      <td>4.0L,DIESEL</td>\n",
       "      <td>4009.0</td>\n",
       "      <td>134.0</td>\n",
       "      <td>120.0</td>\n",
       "      <td>NaN</td>\n",
       "      <td>70000.0</td>\n",
       "      <td>diesel</td>\n",
       "      <td>20</td>\n",
       "      <td>500.0</td>\n",
       "    </tr>\n",
       "    <tr>\n",
       "      <th>255</th>\n",
       "      <td>NISSAN</td>\n",
       "      <td>Urvan</td>\n",
       "      <td>2.5L TURBO DIESE</td>\n",
       "      <td>NaN</td>\n",
       "      <td>2488.0</td>\n",
       "      <td>140.0</td>\n",
       "      <td>14.0</td>\n",
       "      <td>28000.0</td>\n",
       "      <td>diesel</td>\n",
       "      <td>15</td>\n",
       "      <td>356.0</td>\n",
       "    </tr>\n",
       "    <tr>\n",
       "      <th>994</th>\n",
       "      <td>PEUGEOT</td>\n",
       "      <td>Partner Electric</td>\n",
       "      <td>ELECTRIC MOTOR</td>\n",
       "      <td>NaN</td>\n",
       "      <td>136.0</td>\n",
       "      <td>130.0</td>\n",
       "      <td>9.0</td>\n",
       "      <td>40000.0</td>\n",
       "      <td>electric</td>\n",
       "      <td>5</td>\n",
       "      <td>260.0</td>\n",
       "    </tr>\n",
       "    <tr>\n",
       "      <th>995</th>\n",
       "      <td>PEUGEOT</td>\n",
       "      <td>Expert Electric</td>\n",
       "      <td>ELECTRIC MOTOR</td>\n",
       "      <td>NaN</td>\n",
       "      <td>136.0</td>\n",
       "      <td>130.0</td>\n",
       "      <td>9.5</td>\n",
       "      <td>45000.0</td>\n",
       "      <td>electric</td>\n",
       "      <td>5</td>\n",
       "      <td>260.0</td>\n",
       "    </tr>\n",
       "    <tr>\n",
       "      <th>1046</th>\n",
       "      <td>FORD</td>\n",
       "      <td>Transit</td>\n",
       "      <td>ECOBLUE TURBO DIESEL</td>\n",
       "      <td>2000.0</td>\n",
       "      <td>170.0</td>\n",
       "      <td>160.0</td>\n",
       "      <td>12.0</td>\n",
       "      <td>43455.0</td>\n",
       "      <td>diesel</td>\n",
       "      <td>&lt;NA&gt;</td>\n",
       "      <td>405.0</td>\n",
       "    </tr>\n",
       "    <tr>\n",
       "      <th>1047</th>\n",
       "      <td>FORD</td>\n",
       "      <td>Transit Connect</td>\n",
       "      <td>INLINE-4 GASOLINE ENGINE</td>\n",
       "      <td>2000.0</td>\n",
       "      <td>162.0</td>\n",
       "      <td>175.0</td>\n",
       "      <td>10.5</td>\n",
       "      <td>29365.0</td>\n",
       "      <td>petrol</td>\n",
       "      <td>&lt;NA&gt;</td>\n",
       "      <td>200.0</td>\n",
       "    </tr>\n",
       "    <tr>\n",
       "      <th>1048</th>\n",
       "      <td>FORD</td>\n",
       "      <td>F-450 Super Duty</td>\n",
       "      <td>TURBOCHARGED V8 DIESEL</td>\n",
       "      <td>6700.0</td>\n",
       "      <td>475.0</td>\n",
       "      <td>165.0</td>\n",
       "      <td>8.5</td>\n",
       "      <td>61625.0</td>\n",
       "      <td>diesel</td>\n",
       "      <td>&lt;NA&gt;</td>\n",
       "      <td>1424.0</td>\n",
       "    </tr>\n",
       "    <tr>\n",
       "      <th>1049</th>\n",
       "      <td>FORD</td>\n",
       "      <td>F-550 Super Duty</td>\n",
       "      <td>TURBOCHARGED V8 DIESEL</td>\n",
       "      <td>6700.0</td>\n",
       "      <td>475.0</td>\n",
       "      <td>165.0</td>\n",
       "      <td>8.8</td>\n",
       "      <td>64540.0</td>\n",
       "      <td>diesel</td>\n",
       "      <td>&lt;NA&gt;</td>\n",
       "      <td>1424.0</td>\n",
       "    </tr>\n",
       "    <tr>\n",
       "      <th>1055</th>\n",
       "      <td>FORD</td>\n",
       "      <td>Expedition King Ranch</td>\n",
       "      <td>TURBOCHARGED V6</td>\n",
       "      <td>3500.0</td>\n",
       "      <td>440.0</td>\n",
       "      <td>210.0</td>\n",
       "      <td>6.8</td>\n",
       "      <td>79560.0</td>\n",
       "      <td>petrol</td>\n",
       "      <td>&lt;NA&gt;</td>\n",
       "      <td>691.0</td>\n",
       "    </tr>\n",
       "    <tr>\n",
       "      <th>1056</th>\n",
       "      <td>FORD</td>\n",
       "      <td>Transit Custom</td>\n",
       "      <td>ECOBLUE TURBO DIESEL</td>\n",
       "      <td>2000.0</td>\n",
       "      <td>130.0</td>\n",
       "      <td>160.0</td>\n",
       "      <td>12.5</td>\n",
       "      <td>35000.0</td>\n",
       "      <td>diesel</td>\n",
       "      <td>&lt;NA&gt;</td>\n",
       "      <td>385.0</td>\n",
       "    </tr>\n",
       "    <tr>\n",
       "      <th>1059</th>\n",
       "      <td>FORD</td>\n",
       "      <td>Transit Electric (E-Transit)</td>\n",
       "      <td>ELECTRIC MOTOR</td>\n",
       "      <td>89.0</td>\n",
       "      <td>266.0</td>\n",
       "      <td>140.0</td>\n",
       "      <td>9.0</td>\n",
       "      <td>52000.0</td>\n",
       "      <td>electric</td>\n",
       "      <td>&lt;NA&gt;</td>\n",
       "      <td>430.0</td>\n",
       "    </tr>\n",
       "    <tr>\n",
       "      <th>1096</th>\n",
       "      <td>MITSUBISHI</td>\n",
       "      <td>Canter (Truck)</td>\n",
       "      <td>3.0L DIESEL</td>\n",
       "      <td>3000.0</td>\n",
       "      <td>150.0</td>\n",
       "      <td>120.0</td>\n",
       "      <td>NaN</td>\n",
       "      <td>40000.0</td>\n",
       "      <td>diesel</td>\n",
       "      <td>2</td>\n",
       "      <td>370.0</td>\n",
       "    </tr>\n",
       "    <tr>\n",
       "      <th>1107</th>\n",
       "      <td>MITSUBISHI</td>\n",
       "      <td>Fuso Fighter (Truck)</td>\n",
       "      <td>7.5L DIESEL</td>\n",
       "      <td>7500.0</td>\n",
       "      <td>240.0</td>\n",
       "      <td>120.0</td>\n",
       "      <td>NaN</td>\n",
       "      <td>80000.0</td>\n",
       "      <td>diesel</td>\n",
       "      <td>2</td>\n",
       "      <td>686.0</td>\n",
       "    </tr>\n",
       "    <tr>\n",
       "      <th>1108</th>\n",
       "      <td>MITSUBISHI</td>\n",
       "      <td>Fuso Canter Eco Hybrid</td>\n",
       "      <td>3.0L DIESEL HYBRID</td>\n",
       "      <td>3000.0</td>\n",
       "      <td>150.0</td>\n",
       "      <td>120.0</td>\n",
       "      <td>NaN</td>\n",
       "      <td>55000.0</td>\n",
       "      <td>diesel hybrid</td>\n",
       "      <td>2</td>\n",
       "      <td>370.0</td>\n",
       "    </tr>\n",
       "    <tr>\n",
       "      <th>1126</th>\n",
       "      <td>MITSUBISHI</td>\n",
       "      <td>Minicab Miev</td>\n",
       "      <td>ELECTRIC MOTOR</td>\n",
       "      <td>16.0</td>\n",
       "      <td>64.0</td>\n",
       "      <td>100.0</td>\n",
       "      <td>NaN</td>\n",
       "      <td>19000.0</td>\n",
       "      <td>electric</td>\n",
       "      <td>2</td>\n",
       "      <td>196.0</td>\n",
       "    </tr>\n",
       "    <tr>\n",
       "      <th>1147</th>\n",
       "      <td>MAZDA</td>\n",
       "      <td>Rx-Vision Concept</td>\n",
       "      <td>ROTARY SKYACTIV-R</td>\n",
       "      <td>NaN</td>\n",
       "      <td>400.0</td>\n",
       "      <td>300.0</td>\n",
       "      <td>NaN</td>\n",
       "      <td>NaN</td>\n",
       "      <td>petrol (hybrid)</td>\n",
       "      <td>2</td>\n",
       "      <td>NaN</td>\n",
       "    </tr>\n",
       "  </tbody>\n",
       "</table>\n",
       "</div>"
      ],
      "text/plain": [
       "     Company Names                    Cars Names                   Engines  \\\n",
       "11         FERRARI                     Portofino                        V8   \n",
       "12         FERRARI                          Roma                        V8   \n",
       "15         FERRARI                   Portofino M                        V8   \n",
       "16         FERRARI                   Roma Spider                        V8   \n",
       "18          TOYOTA                     Toyota 86                   BOXER-4   \n",
       "97        MERCEDES                   Benz Eqs 53            ELECTRIC MOTOR   \n",
       "241         TOYOTA                       Coaster               4.0L,DIESEL   \n",
       "255         NISSAN                         Urvan          2.5L TURBO DIESE   \n",
       "994        PEUGEOT              Partner Electric            ELECTRIC MOTOR   \n",
       "995        PEUGEOT               Expert Electric            ELECTRIC MOTOR   \n",
       "1046          FORD                       Transit      ECOBLUE TURBO DIESEL   \n",
       "1047          FORD               Transit Connect  INLINE-4 GASOLINE ENGINE   \n",
       "1048          FORD              F-450 Super Duty    TURBOCHARGED V8 DIESEL   \n",
       "1049          FORD              F-550 Super Duty    TURBOCHARGED V8 DIESEL   \n",
       "1055          FORD         Expedition King Ranch           TURBOCHARGED V6   \n",
       "1056          FORD                Transit Custom      ECOBLUE TURBO DIESEL   \n",
       "1059          FORD  Transit Electric (E-Transit)            ELECTRIC MOTOR   \n",
       "1096    MITSUBISHI                Canter (Truck)               3.0L DIESEL   \n",
       "1107    MITSUBISHI          Fuso Fighter (Truck)               7.5L DIESEL   \n",
       "1108    MITSUBISHI        Fuso Canter Eco Hybrid        3.0L DIESEL HYBRID   \n",
       "1126    MITSUBISHI                  Minicab Miev            ELECTRIC MOTOR   \n",
       "1147         MAZDA             Rx-Vision Concept         ROTARY SKYACTIV-R   \n",
       "\n",
       "      CC/Battery Capacity  HorsePower  Total Speed  Performance(0 - 100 )KM/H  \\\n",
       "11                 3900.0       592.0        320.0                        3.2   \n",
       "12                 3900.0       612.0        320.0                        3.4   \n",
       "15                 3900.0       612.0        320.0                        3.2   \n",
       "16                 3900.0       612.0        320.0                        3.4   \n",
       "18                 1998.0       205.0        226.0                        6.4   \n",
       "97                    NaN       751.0        250.0                        3.4   \n",
       "241                4009.0       134.0        120.0                        NaN   \n",
       "255                   NaN      2488.0        140.0                       14.0   \n",
       "994                   NaN       136.0        130.0                        9.0   \n",
       "995                   NaN       136.0        130.0                        9.5   \n",
       "1046               2000.0       170.0        160.0                       12.0   \n",
       "1047               2000.0       162.0        175.0                       10.5   \n",
       "1048               6700.0       475.0        165.0                        8.5   \n",
       "1049               6700.0       475.0        165.0                        8.8   \n",
       "1055               3500.0       440.0        210.0                        6.8   \n",
       "1056               2000.0       130.0        160.0                       12.5   \n",
       "1059                 89.0       266.0        140.0                        9.0   \n",
       "1096               3000.0       150.0        120.0                        NaN   \n",
       "1107               7500.0       240.0        120.0                        NaN   \n",
       "1108               3000.0       150.0        120.0                        NaN   \n",
       "1126                 16.0        64.0        100.0                        NaN   \n",
       "1147                  NaN       400.0        300.0                        NaN   \n",
       "\n",
       "      Cars Prices       Fuel Types  Seats  Torque  \n",
       "11       210000.0           petrol   <NA>   760.0  \n",
       "12       230000.0           petrol   <NA>   760.0  \n",
       "15       220000.0           petrol   <NA>   760.0  \n",
       "16       240000.0           petrol   <NA>   760.0  \n",
       "18        27000.0           petrol   <NA>   205.0  \n",
       "97       102000.0         electric      5   950.0  \n",
       "241       70000.0           diesel     20   500.0  \n",
       "255       28000.0           diesel     15   356.0  \n",
       "994       40000.0         electric      5   260.0  \n",
       "995       45000.0         electric      5   260.0  \n",
       "1046      43455.0           diesel   <NA>   405.0  \n",
       "1047      29365.0           petrol   <NA>   200.0  \n",
       "1048      61625.0           diesel   <NA>  1424.0  \n",
       "1049      64540.0           diesel   <NA>  1424.0  \n",
       "1055      79560.0           petrol   <NA>   691.0  \n",
       "1056      35000.0           diesel   <NA>   385.0  \n",
       "1059      52000.0         electric   <NA>   430.0  \n",
       "1096      40000.0           diesel      2   370.0  \n",
       "1107      80000.0           diesel      2   686.0  \n",
       "1108      55000.0    diesel hybrid      2   370.0  \n",
       "1126      19000.0         electric      2   196.0  \n",
       "1147          NaN  petrol (hybrid)      2     NaN  "
      ]
     },
     "execution_count": 14,
     "metadata": {},
     "output_type": "execute_result"
    }
   ],
   "source": [
    "# Displaying the rows with missing values if found\n",
    "data[data.isnull().any(axis=1)]"
   ]
  },
  {
   "cell_type": "code",
   "execution_count": 15,
   "id": "06cb3ccf",
   "metadata": {},
   "outputs": [
    {
     "data": {
      "application/vnd.microsoft.datawrangler.viewer.v0+json": {
       "columns": [
        {
         "name": "index",
         "rawType": "object",
         "type": "string"
        },
        {
         "name": "0",
         "rawType": "int64",
         "type": "integer"
        }
       ],
       "ref": "441bfe48-69f6-4386-9640-4422714a7de0",
       "rows": [
        [
         "Company Names",
         "0"
        ],
        [
         "Cars Names",
         "0"
        ],
        [
         "Engines",
         "0"
        ],
        [
         "CC/Battery Capacity",
         "0"
        ],
        [
         "HorsePower",
         "0"
        ],
        [
         "Total Speed",
         "0"
        ],
        [
         "Performance(0 - 100 )KM/H",
         "0"
        ],
        [
         "Cars Prices",
         "0"
        ],
        [
         "Fuel Types",
         "0"
        ],
        [
         "Seats",
         "0"
        ],
        [
         "Torque",
         "0"
        ]
       ],
       "shape": {
        "columns": 1,
        "rows": 11
       }
      },
      "text/plain": [
       "Company Names                0\n",
       "Cars Names                   0\n",
       "Engines                      0\n",
       "CC/Battery Capacity          0\n",
       "HorsePower                   0\n",
       "Total Speed                  0\n",
       "Performance(0 - 100 )KM/H    0\n",
       "Cars Prices                  0\n",
       "Fuel Types                   0\n",
       "Seats                        0\n",
       "Torque                       0\n",
       "dtype: int64"
      ]
     },
     "execution_count": 15,
     "metadata": {},
     "output_type": "execute_result"
    }
   ],
   "source": [
    "# Handling missing data by dropping the rows with missing values if found\n",
    "data.dropna(inplace=True)\n",
    "data.isnull().sum()"
   ]
  },
  {
   "cell_type": "code",
   "execution_count": 16,
   "id": "aa553580",
   "metadata": {},
   "outputs": [
    {
     "data": {
      "application/vnd.microsoft.datawrangler.viewer.v0+json": {
       "columns": [
        {
         "name": "index",
         "rawType": "object",
         "type": "string"
        },
        {
         "name": "HorsePower",
         "rawType": "float64",
         "type": "float"
        }
       ],
       "ref": "2ef04649-69ae-4ef8-a71e-efbacc7004c3",
       "rows": [
        [
         "count",
         "1191.0"
        ],
        [
         "mean",
         "305.79932829554997"
        ],
        [
         "std",
         "214.07721460882868"
        ],
        [
         "min",
         "26.0"
        ],
        [
         "25%",
         "154.5"
        ],
        [
         "50%",
         "255.0"
        ],
        [
         "75%",
         "400.0"
        ],
        [
         "max",
         "1850.0"
        ]
       ],
       "shape": {
        "columns": 1,
        "rows": 8
       }
      },
      "text/plain": [
       "count    1191.000000\n",
       "mean      305.799328\n",
       "std       214.077215\n",
       "min        26.000000\n",
       "25%       154.500000\n",
       "50%       255.000000\n",
       "75%       400.000000\n",
       "max      1850.000000\n",
       "Name: HorsePower, dtype: float64"
      ]
     },
     "execution_count": 16,
     "metadata": {},
     "output_type": "execute_result"
    }
   ],
   "source": [
    "# Displaying HorsePower descriptive statistics\n",
    "data.HorsePower.describe()"
   ]
  },
  {
   "cell_type": "code",
   "execution_count": 17,
   "id": "732ef91d",
   "metadata": {},
   "outputs": [
    {
     "name": "stdout",
     "output_type": "stream",
     "text": [
      "Skewness: 2.377994\n",
      "Kurtosis: 9.865334\n"
     ]
    },
    {
     "data": {
      "image/png": "[encoded data removed]",
      "text/plain": [
       "<Figure size 500x500 with 1 Axes>"
      ]
     },
     "metadata": {},
     "output_type": "display_data"
    }
   ],
   "source": [
    "# Displaying HorsePower and the count of cars distribution\n",
    "sns.displot(data['HorsePower'])\n",
    "# Measure of distortion of symmetric distribution\n",
    "print(\"Skewness: %f\" % data['HorsePower'].skew())\n",
    "print(\"Kurtosis: %f\" % data['HorsePower'].kurt())"
   ]
  },
  {
   "cell_type": "code",
   "execution_count": 18,
   "id": "fb42197a",
   "metadata": {},
   "outputs": [
    {
     "data": {
      "text/plain": [
       "<Axes: >"
      ]
     },
     "execution_count": 18,
     "metadata": {},
     "output_type": "execute_result"
    },
    {
     "data": {
      "image/png": "[encoded data removed]",
      "text/plain": [
       "<Figure size 1200x900 with 2 Axes>"
      ]
     },
     "metadata": {},
     "output_type": "display_data"
    }
   ],
   "source": [
    "# Displaying the of CC/Battery Capacity, HorsePower, Total Speed, Performance(0 - 100 )KM/H and Torque correlation\n",
    "factors = ['CC/Battery Capacity', 'HorsePower', 'Total Speed', 'Performance(0 - 100 )KM/H', 'Torque']\n",
    "data_clean = data[factors].copy()\n",
    "corrmat = data_clean.corr()\n",
    "f, ax = plt.subplots(figsize=(12, 9))\n",
    "sns.heatmap(corrmat, vmin=-1, vmax=1, annot=True, cmap='BrBG')"
   ]
  },
  {
   "cell_type": "code",
   "execution_count": 19,
   "id": "c37efc99",
   "metadata": {},
   "outputs": [
    {
     "name": "stderr",
     "output_type": "stream",
     "text": [
      "C:\\Users\\nihaa_hjoailx\\AppData\\Local\\Temp\\ipykernel_11824\\3860764960.py:10: FutureWarning: \n",
      "\n",
      "Passing `palette` without assigning `hue` is deprecated and will be removed in v0.14.0. Assign the `x` variable to `hue` and set `legend=False` for the same effect.\n",
      "\n",
      "  sns.boxplot(x='Company Names', y=var, data=data, palette='Set2', ax=ax)\n"
     ]
    },
    {
     "data": {
      "text/plain": [
       "<matplotlib.lines.Line2D at 0x22b57d64550>"
      ]
     },
     "execution_count": 19,
     "metadata": {},
     "output_type": "execute_result"
    },
    {
     "data": {
      "image/png": "[encoded data removed]",
      "text/plain": [
       "<Figure size 1200x600 with 1 Axes>"
      ]
     },
     "metadata": {},
     "output_type": "display_data"
    }
   ],
   "source": [
    "# Boxplot of Cars Prices by Company Names\n",
    "def scale(a):\n",
    "    b = (a-a.min())/(a.max()-a.min())\n",
    "    return b\n",
    "\n",
    "data['Cars Prices'] = scale(data['Cars Prices'])\n",
    "\n",
    "var = 'Cars Prices'\n",
    "fig, ax = plt.subplots(figsize=(12, 6))\n",
    "sns.boxplot(x='Company Names', y=var, data=data, palette='Set2', ax=ax)\n",
    "mean_price = data[var].mean()\n",
    "plt.axhline(mean_price, color='r', linestyle='dashed', linewidth=2, label=f'Mean Price: ${mean_price:.1f}k')"
   ]
  }
 ],
 "metadata": {
  "kernelspec": {
   "display_name": "Python 3",
   "language": "python",
   "name": "python3"
  },
  "language_info": {
   "codemirror_mode": {
    "name": "ipython",
    "version": 3
   },
   "file_extension": ".py",
   "mimetype": "text/x-python",
   "name": "python",
   "nbconvert_exporter": "python",
   "pygments_lexer": "ipython3",
   "version": "3.13.5"
  }
 },
 "nbformat": 4,
 "nbformat_minor": 5
}
